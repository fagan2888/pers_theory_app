{
 "cells": [
  {
   "cell_type": "markdown",
   "metadata": {},
   "source": [
    "## Importing the necessary packages"
   ]
  },
  {
   "cell_type": "code",
   "execution_count": 22,
   "metadata": {},
   "outputs": [],
   "source": [
    "import pandas as pd\n",
    "import numpy as np\n",
    "import scipy\n",
    "from matplotlib import pyplot as plt\n",
    "from sklearn.model_selection import train_test_split\n",
    "import seaborn as sns\n",
    "import time"
   ]
  },
  {
   "cell_type": "markdown",
   "metadata": {},
   "source": [
    "## Setting up the ability to import modules written for this project"
   ]
  },
  {
   "cell_type": "code",
   "execution_count": 23,
   "metadata": {
    "collapsed": true
   },
   "outputs": [],
   "source": [
    "import os\n",
    "import sys\n",
    "module_path = os.path.abspath(os.path.join('..'))\n",
    "\n",
    "if module_path not in sys.path:\n",
    "    sys.path.append(module_path)"
   ]
  },
  {
   "cell_type": "markdown",
   "metadata": {},
   "source": [
    "## Importing modules written for this project"
   ]
  },
  {
   "cell_type": "code",
   "execution_count": 24,
   "metadata": {
    "collapsed": true
   },
   "outputs": [],
   "source": [
    "from models.neighborhood.ItembasedCF import ItembasedCF\n",
    "from utils.baseline import baseline\n",
    "from utils.data_split import data_split_train_test\n",
    "from utils.metrics import mean_absolute_error, mean_squared_error, root_mean_squared_error\n",
    "from utils.sampler import rec_sample"
   ]
  },
  {
   "cell_type": "code",
   "execution_count": 25,
   "metadata": {
    "collapsed": true
   },
   "outputs": [],
   "source": [
    "pd.options.mode.chained_assignment = None "
   ]
  },
  {
   "cell_type": "markdown",
   "metadata": {},
   "source": [
    "## Reading the input dataset from the data folder"
   ]
  },
  {
   "cell_type": "code",
   "execution_count": 64,
   "metadata": {},
   "outputs": [],
   "source": [
    "playcount_df = pd.read_csv('../data/10kusers_100songs.csv')"
   ]
  },
  {
   "cell_type": "markdown",
   "metadata": {},
   "source": [
    "## Generating a dataset with top 10,000 users and 100 items"
   ]
  },
  {
   "cell_type": "code",
   "execution_count": 27,
   "metadata": {},
   "outputs": [],
   "source": [
    "# Generate a sample of required size\n",
    "data_sample = rec_sample(df=playcount_df, user_field='user_id', item_field='song_id')\n",
    "df = data_sample.generate_sample(users_n=10000, items_m=100)"
   ]
  },
  {
   "cell_type": "markdown",
   "metadata": {},
   "source": [
    "## Splitting into train, validation and test"
   ]
  },
  {
   "cell_type": "code",
   "execution_count": 28,
   "metadata": {
    "collapsed": true
   },
   "outputs": [],
   "source": [
    "split_data = data_split_train_test(df)\n",
    "df_train, df_test = split_data.split_data_train_test_random(train_proportion=0.8, test_proportion=0.2, random_state=42)\n",
    "\n",
    "split_data = data_split_train_test(df_train)\n",
    "df_train, df_val = split_data.split_data_train_test_random(train_proportion=0.8, test_proportion=0.2, random_state=42)"
   ]
  },
  {
   "cell_type": "markdown",
   "metadata": {},
   "source": [
    "## Function that sets up the model for multiple runs for comparison"
   ]
  },
  {
   "cell_type": "code",
   "execution_count": 29,
   "metadata": {
    "collapsed": true
   },
   "outputs": [],
   "source": [
    "def run_model(df_train, df_test, similarity_measure='cosine_adjusted', k=10, baseline_method='average'):\n",
    "    model = ItembasedCF(k=k, similarity_measure=similarity_measure, baseline=baseline_method)\n",
    "    model.fit(df_train, user_field='user_id', item_field='song_id', rec_field='listen_count')\n",
    "    df_test_pred = model.predict(df_test, baseline_col=True)\n",
    "\n",
    "    RMSE_test = root_mean_squared_error(df_test_pred['listen_count'], df_test_pred['pred'])\n",
    "    MAE_test = mean_absolute_error(df_test_pred['listen_count'], df_test_pred['pred'])\n",
    "    baseline_proportion = df_test_pred['baseline_col'].mean()\n",
    "\n",
    "    baseline_pred = baseline(df_train, user_field='user_id', item_field='song_id', rec_field='listen_count')\n",
    "\n",
    "    df_test_pred['baseline_average'] = df_test_pred.apply(lambda x:baseline_pred.baseline_average(x['user_id'], x['song_id']), axis=1)\n",
    "    df_test_pred['baseline_item_average'] = df_test_pred.apply(lambda x:baseline_pred.baseline_item_average(x['user_id'], x['song_id']), axis=1)\n",
    "\n",
    "    rmse_baseline_avg = root_mean_squared_error(df_test_pred['listen_count'].values, df_test_pred['baseline_average'].values)\n",
    "    mae_baseline_avg = mean_absolute_error(df_test_pred['listen_count'].values, df_test_pred['baseline_average'].values)\n",
    "\n",
    "    rmse_item_baseline_avg = root_mean_squared_error(df_test_pred['listen_count'].values, df_test_pred['baseline_item_average'].values)\n",
    "    mae_item_baseline_avg = mean_absolute_error(df_test_pred['listen_count'].values, df_test_pred['baseline_item_average'].values)\n",
    "\n",
    "    return {'similarity_measure':similarity_measure,\n",
    "          'k':k,\n",
    "          'baseline_method':baseline_method,\n",
    "          'RMSE_pred_set':RMSE_test, \n",
    "          'MAE_pred_set':MAE_test, \n",
    "          'baseline_proportion':baseline_proportion, \n",
    "          'rmse_baseline_avg':rmse_baseline_avg, \n",
    "          'mae_baseline_avg':mae_baseline_avg, \n",
    "          'rmse_item_baseline_avg':rmse_item_baseline_avg, \n",
    "          'mae_item_baseline_avg':mae_item_baseline_avg\n",
    "    }\n"
   ]
  },
  {
   "cell_type": "markdown",
   "metadata": {},
   "source": [
    "## Measuring model performance on validation data across different similarity measures and values of neighborhood size"
   ]
  },
  {
   "cell_type": "code",
   "execution_count": null,
   "metadata": {
    "collapsed": true
   },
   "outputs": [],
   "source": [
    "ctr = 0\n",
    "results = {}\n",
    "for k in range(1,26):\n",
    "    for similarity_measure in ['euclidian', 'pearson', 'cosine', 'cosine_adjusted']:\n",
    "#         print (k)\n",
    "        result_dict = run_model(df_train=df_train, df_test=df_val, similarity_measure=similarity_measure, k=k, baseline_method='item_average')\n",
    "        results[ctr] = result_dict\n",
    "        ctr += 1"
   ]
  },
  {
   "cell_type": "code",
   "execution_count": 51,
   "metadata": {
    "collapsed": true
   },
   "outputs": [],
   "source": [
    "results_df = pd.DataFrame(results)\n",
    "results_df = results_df.T"
   ]
  },
  {
   "cell_type": "code",
   "execution_count": 95,
   "metadata": {},
   "outputs": [
    {
     "data": {
      "text/html": [
       "<div>\n",
       "<style scoped>\n",
       "    .dataframe tbody tr th:only-of-type {\n",
       "        vertical-align: middle;\n",
       "    }\n",
       "\n",
       "    .dataframe tbody tr th {\n",
       "        vertical-align: top;\n",
       "    }\n",
       "\n",
       "    .dataframe thead th {\n",
       "        text-align: right;\n",
       "    }\n",
       "</style>\n",
       "<table border=\"1\" class=\"dataframe\">\n",
       "  <thead>\n",
       "    <tr style=\"text-align: right;\">\n",
       "      <th></th>\n",
       "      <th>MAE_pred_set</th>\n",
       "      <th>RMSE_pred_set</th>\n",
       "      <th>baseline_method</th>\n",
       "      <th>baseline_proportion</th>\n",
       "      <th>k</th>\n",
       "      <th>mae_baseline_avg</th>\n",
       "      <th>mae_item_baseline_avg</th>\n",
       "      <th>rmse_baseline_avg</th>\n",
       "      <th>rmse_item_baseline_avg</th>\n",
       "      <th>similarity_measure</th>\n",
       "    </tr>\n",
       "  </thead>\n",
       "  <tbody>\n",
       "    <tr>\n",
       "      <th>0</th>\n",
       "      <td>2.46746</td>\n",
       "      <td>8.66809</td>\n",
       "      <td>item_average</td>\n",
       "      <td>0.946412</td>\n",
       "      <td>1</td>\n",
       "      <td>2.55304</td>\n",
       "      <td>2.45843</td>\n",
       "      <td>8.71793</td>\n",
       "      <td>8.62628</td>\n",
       "      <td>euclidian</td>\n",
       "    </tr>\n",
       "    <tr>\n",
       "      <th>1</th>\n",
       "      <td>2.43986</td>\n",
       "      <td>8.66943</td>\n",
       "      <td>item_average</td>\n",
       "      <td>0.834088</td>\n",
       "      <td>1</td>\n",
       "      <td>2.55304</td>\n",
       "      <td>2.45843</td>\n",
       "      <td>8.71793</td>\n",
       "      <td>8.62628</td>\n",
       "      <td>pearson</td>\n",
       "    </tr>\n",
       "    <tr>\n",
       "      <th>2</th>\n",
       "      <td>2.43104</td>\n",
       "      <td>8.67079</td>\n",
       "      <td>item_average</td>\n",
       "      <td>0.820394</td>\n",
       "      <td>1</td>\n",
       "      <td>2.55304</td>\n",
       "      <td>2.45843</td>\n",
       "      <td>8.71793</td>\n",
       "      <td>8.62628</td>\n",
       "      <td>cosine</td>\n",
       "    </tr>\n",
       "    <tr>\n",
       "      <th>3</th>\n",
       "      <td>2.43606</td>\n",
       "      <td>8.72101</td>\n",
       "      <td>item_average</td>\n",
       "      <td>0.85876</td>\n",
       "      <td>1</td>\n",
       "      <td>2.55304</td>\n",
       "      <td>2.45843</td>\n",
       "      <td>8.71793</td>\n",
       "      <td>8.62628</td>\n",
       "      <td>cosine_adjusted</td>\n",
       "    </tr>\n",
       "    <tr>\n",
       "      <th>4</th>\n",
       "      <td>2.47273</td>\n",
       "      <td>8.72675</td>\n",
       "      <td>item_average</td>\n",
       "      <td>0.89656</td>\n",
       "      <td>2</td>\n",
       "      <td>2.55304</td>\n",
       "      <td>2.45843</td>\n",
       "      <td>8.71793</td>\n",
       "      <td>8.62628</td>\n",
       "      <td>euclidian</td>\n",
       "    </tr>\n",
       "    <tr>\n",
       "      <th>5</th>\n",
       "      <td>2.4109</td>\n",
       "      <td>8.6909</td>\n",
       "      <td>item_average</td>\n",
       "      <td>0.670892</td>\n",
       "      <td>2</td>\n",
       "      <td>2.55304</td>\n",
       "      <td>2.45843</td>\n",
       "      <td>8.71793</td>\n",
       "      <td>8.62628</td>\n",
       "      <td>pearson</td>\n",
       "    </tr>\n",
       "    <tr>\n",
       "      <th>6</th>\n",
       "      <td>2.43858</td>\n",
       "      <td>8.68748</td>\n",
       "      <td>item_average</td>\n",
       "      <td>0.690923</td>\n",
       "      <td>2</td>\n",
       "      <td>2.55304</td>\n",
       "      <td>2.45843</td>\n",
       "      <td>8.71793</td>\n",
       "      <td>8.62628</td>\n",
       "      <td>cosine</td>\n",
       "    </tr>\n",
       "    <tr>\n",
       "      <th>7</th>\n",
       "      <td>2.43561</td>\n",
       "      <td>8.75298</td>\n",
       "      <td>item_average</td>\n",
       "      <td>0.749264</td>\n",
       "      <td>2</td>\n",
       "      <td>2.55304</td>\n",
       "      <td>2.45843</td>\n",
       "      <td>8.71793</td>\n",
       "      <td>8.62628</td>\n",
       "      <td>cosine_adjusted</td>\n",
       "    </tr>\n",
       "    <tr>\n",
       "      <th>8</th>\n",
       "      <td>2.48565</td>\n",
       "      <td>8.75676</td>\n",
       "      <td>item_average</td>\n",
       "      <td>0.851913</td>\n",
       "      <td>3</td>\n",
       "      <td>2.55304</td>\n",
       "      <td>2.45843</td>\n",
       "      <td>8.71793</td>\n",
       "      <td>8.62628</td>\n",
       "      <td>euclidian</td>\n",
       "    </tr>\n",
       "    <tr>\n",
       "      <th>9</th>\n",
       "      <td>2.43509</td>\n",
       "      <td>8.7034</td>\n",
       "      <td>item_average</td>\n",
       "      <td>0.569488</td>\n",
       "      <td>3</td>\n",
       "      <td>2.55304</td>\n",
       "      <td>2.45843</td>\n",
       "      <td>8.71793</td>\n",
       "      <td>8.62628</td>\n",
       "      <td>pearson</td>\n",
       "    </tr>\n",
       "  </tbody>\n",
       "</table>\n",
       "</div>"
      ],
      "text/plain": [
       "  MAE_pred_set RMSE_pred_set baseline_method baseline_proportion  k  \\\n",
       "0      2.46746       8.66809    item_average            0.946412  1   \n",
       "1      2.43986       8.66943    item_average            0.834088  1   \n",
       "2      2.43104       8.67079    item_average            0.820394  1   \n",
       "3      2.43606       8.72101    item_average             0.85876  1   \n",
       "4      2.47273       8.72675    item_average             0.89656  2   \n",
       "5       2.4109        8.6909    item_average            0.670892  2   \n",
       "6      2.43858       8.68748    item_average            0.690923  2   \n",
       "7      2.43561       8.75298    item_average            0.749264  2   \n",
       "8      2.48565       8.75676    item_average            0.851913  3   \n",
       "9      2.43509        8.7034    item_average            0.569488  3   \n",
       "\n",
       "  mae_baseline_avg mae_item_baseline_avg rmse_baseline_avg  \\\n",
       "0          2.55304               2.45843           8.71793   \n",
       "1          2.55304               2.45843           8.71793   \n",
       "2          2.55304               2.45843           8.71793   \n",
       "3          2.55304               2.45843           8.71793   \n",
       "4          2.55304               2.45843           8.71793   \n",
       "5          2.55304               2.45843           8.71793   \n",
       "6          2.55304               2.45843           8.71793   \n",
       "7          2.55304               2.45843           8.71793   \n",
       "8          2.55304               2.45843           8.71793   \n",
       "9          2.55304               2.45843           8.71793   \n",
       "\n",
       "  rmse_item_baseline_avg similarity_measure  \n",
       "0                8.62628          euclidian  \n",
       "1                8.62628            pearson  \n",
       "2                8.62628             cosine  \n",
       "3                8.62628    cosine_adjusted  \n",
       "4                8.62628          euclidian  \n",
       "5                8.62628            pearson  \n",
       "6                8.62628             cosine  \n",
       "7                8.62628    cosine_adjusted  \n",
       "8                8.62628          euclidian  \n",
       "9                8.62628            pearson  "
      ]
     },
     "execution_count": 95,
     "metadata": {},
     "output_type": "execute_result"
    }
   ],
   "source": [
    "results_df[:10]"
   ]
  },
  {
   "cell_type": "markdown",
   "metadata": {},
   "source": [
    "## Plot of MAE at different similarity measures and values of K"
   ]
  },
  {
   "cell_type": "code",
   "execution_count": 100,
   "metadata": {},
   "outputs": [
    {
     "data": {
      "image/png": "[encoded data removed]",
      "text/plain": [
       "<Figure size 1152x720 with 1 Axes>"
      ]
     },
     "metadata": {
      "needs_background": "light"
     },
     "output_type": "display_data"
    }
   ],
   "source": [
    "plt.figure(figsize=(16,10))\n",
    "for val in ['euclidian', 'pearson', 'cosine', 'cosine_adjusted']:\n",
    "    plt.plot(range(1,26),results_df[results_df['similarity_measure']==val]['MAE_pred_set'])\n",
    "plt.plot(range(1,26), results_df['mae_baseline_avg'][:25])\n",
    "plt.xlabel('K', fontsize=12)\n",
    "plt.ylabel('MAE')\n",
    "plt.title('Plot of MAE at different similarity measures and values of K')\n",
    "plt.legend(['euclidian', 'pearson', 'cosine', 'cosine_adjusted'],prop={'size': 12})\n",
    "plt.show()"
   ]
  },
  {
   "cell_type": "markdown",
   "metadata": {},
   "source": [
    "### Observations\n",
    "* ** We can clearly observe from the above graph that the MAE decreases with a larger neighborhood size**\n",
    "* ** Euclidian Distance performs the worst among the similarity measures tested**\n",
    "* ** Cosine Adjusted Similarity provides the best performance for our dataset. It also has the fastest drop in MAE with increasing K. **\n",
    "* ** We see the lowest MAE for a value of _K = 20_. However, larger values of K take longer to run. Let's check the runtime below**"
   ]
  },
  {
   "cell_type": "markdown",
   "metadata": {},
   "source": [
    "## Checking time of run for different values of K"
   ]
  },
  {
   "cell_type": "code",
   "execution_count": null,
   "metadata": {
    "collapsed": true
   },
   "outputs": [],
   "source": [
    "ctr = 0\n",
    "results_time = {}\n",
    "for k in range(1,26):\n",
    "#     print (k)\n",
    "    start_time = time.time()\n",
    "    result_dict_time = run_model(df_train=df_train, df_test=df_val, similarity_measure='cosine_adjusted', k=k, baseline_method='item_average')\n",
    "    results_time[ctr] = time.time() - start_time\n",
    "    ctr += 1"
   ]
  },
  {
   "cell_type": "code",
   "execution_count": 74,
   "metadata": {},
   "outputs": [],
   "source": [
    "results_time_df = pd.DataFrame(results_time, index=[0])\n",
    "results_time_df = results_time_df.T\n",
    "results_time_df.columns = ['time_seconds']"
   ]
  },
  {
   "cell_type": "markdown",
   "metadata": {},
   "source": [
    "## Plot of time taken at different values of K"
   ]
  },
  {
   "cell_type": "code",
   "execution_count": 91,
   "metadata": {},
   "outputs": [
    {
     "data": {
      "image/png": "[encoded data removed]",
      "text/plain": [
       "<Figure size 1152x720 with 1 Axes>"
      ]
     },
     "metadata": {
      "needs_background": "light"
     },
     "output_type": "display_data"
    }
   ],
   "source": [
    "plt.figure(figsize=(16,10))\n",
    "plt.plot(results_time_df['time_seconds'])\n",
    "plt.xlabel('K', fontsize=12)\n",
    "plt.ylabel('Time in seconds')\n",
    "plt.title('Plot of time taken at different values of K')\n",
    "plt.legend(prop={'size': 12})\n",
    "plt.show()"
   ]
  },
  {
   "cell_type": "markdown",
   "metadata": {},
   "source": [
    "### It can be clearly seen that the running time increases linearly with K"
   ]
  },
  {
   "cell_type": "code",
   "execution_count": null,
   "metadata": {
    "collapsed": true
   },
   "outputs": [],
   "source": []
  },
  {
   "cell_type": "code",
   "execution_count": 54,
   "metadata": {
    "collapsed": true
   },
   "outputs": [],
   "source": [
    "# results_df.to_csv('results_params.csv', index=False)"
   ]
  },
  {
   "cell_type": "code",
   "execution_count": 31,
   "metadata": {},
   "outputs": [
    {
     "data": {
      "text/plain": [
       "{0: {'MAE_pred_set': 2.2393958296991805,\n",
       "  'RMSE_pred_set': 8.69512766762828,\n",
       "  'baseline_method': 'item_average',\n",
       "  'baseline_proportion': 0.19839293798098687,\n",
       "  'k': 18,\n",
       "  'mae_baseline_avg': 2.5530374523952766,\n",
       "  'mae_item_baseline_avg': 2.4584330817591846,\n",
       "  'rmse_baseline_avg': 8.717927983589837,\n",
       "  'rmse_item_baseline_avg': 8.626278409768679,\n",
       "  'similarity_measure': 'cosine_adjusted'}}"
      ]
     },
     "execution_count": 31,
     "metadata": {},
     "output_type": "execute_result"
    }
   ],
   "source": [
    "results"
   ]
  },
  {
   "cell_type": "code",
   "execution_count": 13,
   "metadata": {},
   "outputs": [
    {
     "data": {
      "text/plain": [
       "{'MAE_test': 2.3148101877413256,\n",
       " 'RMSE_test': 6.783280155756528,\n",
       " 'baseline_method': 'item_average',\n",
       " 'baseline_proportion': 0.2800362154821186,\n",
       " 'k': 10,\n",
       " 'mae_baseline_avg': 2.5656478539074032,\n",
       " 'mae_item_baseline_avg': 2.489236393379065,\n",
       " 'rmse_baseline_avg': 5.902704265652376,\n",
       " 'rmse_item_baseline_avg': 5.7976782301016945,\n",
       " 'similarity_measure': 'cosine_adjusted'}"
      ]
     },
     "execution_count": 13,
     "metadata": {},
     "output_type": "execute_result"
    }
   ],
   "source": [
    "result_dict"
   ]
  },
  {
   "cell_type": "code",
   "execution_count": 11,
   "metadata": {},
   "outputs": [
    {
     "data": {
      "text/plain": [
       "{'MAE_test': 2.3431612034146023,\n",
       " 'RMSE_test': 6.782565965224,\n",
       " 'baseline_method': 'average',\n",
       " 'baseline_proportion': 0.2800362154821186,\n",
       " 'k': 10,\n",
       " 'mae_baseline_avg': 2.5656478539074032,\n",
       " 'mae_item_baseline_avg': 2.489236393379065,\n",
       " 'rmse_baseline_avg': 5.902704265652376,\n",
       " 'rmse_item_baseline_avg': 5.7976782301016945,\n",
       " 'similarity_measure': 'cosine_adjusted'}"
      ]
     },
     "execution_count": 11,
     "metadata": {},
     "output_type": "execute_result"
    }
   ],
   "source": [
    "result_dict"
   ]
  },
  {
   "cell_type": "code",
   "execution_count": null,
   "metadata": {
    "collapsed": true
   },
   "outputs": [],
   "source": []
  }
 ],
 "metadata": {
  "kernelspec": {
   "display_name": "Python 3",
   "language": "python",
   "name": "python3"
  },
  "language_info": {
   "codemirror_mode": {
    "name": "ipython",
    "version": 3
   },
   "file_extension": ".py",
   "mimetype": "text/x-python",
   "name": "python",
   "nbconvert_exporter": "python",
   "pygments_lexer": "ipython3",
   "version": "3.5.2"
  }
 },
 "nbformat": 4,
 "nbformat_minor": 2
}
